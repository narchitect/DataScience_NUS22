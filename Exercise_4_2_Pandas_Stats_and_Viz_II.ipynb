{
  "nbformat": 4,
  "nbformat_minor": 0,
  "metadata": {
    "colab": {
      "name": "Copy of Exercise 4.2 - Pandas Stats and Viz II",
      "provenance": [],
      "collapsed_sections": [],
      "include_colab_link": true
    },
    "kernelspec": {
      "name": "python3",
      "display_name": "Python 3"
    }
  },
  "cells": [
    {
      "cell_type": "markdown",
      "metadata": {
        "id": "view-in-github",
        "colab_type": "text"
      },
      "source": [
        "<a href=\"https://colab.research.google.com/github/narchitect/NUS_Data-Science/blob/main/Exercise_4_2_Pandas_Stats_and_Viz_II.ipynb\" target=\"_parent\"><img src=\"https://colab.research.google.com/assets/colab-badge.svg\" alt=\"Open In Colab\"/></a>"
      ]
    },
    {
      "cell_type": "markdown",
      "metadata": {
        "id": "HleWR9kG9vCe"
      },
      "source": [
        "# Data Science for Construction, Architecture and Engineering\n",
        "\n",
        "### Section 4 - Operations - Pandas Statistics and Visualization\n",
        "\n",
        "### Exercise Set 4.2 - Pandas Stats and Viz II\n",
        "\n",
        "This set of exercises is related to the second half of Section 4 videos. Using the same data (ASBRAE Thermal Comfort Database II) and packages (Pandas) as in the videos, we will learn how to find specific values in different scenarios.\n",
        "\n",
        "There is an introduction video available to explain the process of using this exercise video.\n",
        "\n",
        "The lead developer of this exercise is Chun Fu, a Ph.D. student at NUS and a teaching assistant of this course. "
      ]
    },
    {
      "cell_type": "markdown",
      "metadata": {
        "id": "SgWrI_yaFRLc"
      },
      "source": [
        "#### Setup the environment\n",
        "\n",
        "Let's set up the environment and read the data first:"
      ]
    },
    {
      "cell_type": "code",
      "metadata": {
        "id": "3LNZyZpf9Sav"
      },
      "source": [
        "# Import packages\n",
        "import pandas as pd\n",
        "from google.colab import drive\n",
        "import os\n",
        "import seaborn as sns\n",
        "import matplotlib.pyplot as plt\n",
        "\n",
        "%matplotlib inline"
      ],
      "execution_count": 1,
      "outputs": []
    },
    {
      "cell_type": "code",
      "metadata": {
        "id": "Bn2W9wfA-WM7",
        "colab": {
          "base_uri": "https://localhost:8080/"
        },
        "outputId": "788f91d1-086e-4ed0-d7ce-518beb135d81"
      },
      "source": [
        "# Set path for data source\n",
        "drive.mount('/content/gdrive')\n",
        "os.chdir(\"/content/gdrive/My Drive/EDX Data Science for Construction, Architecture and Engineering/4 - Operations - Statistics and Visualization/\")"
      ],
      "execution_count": 2,
      "outputs": [
        {
          "output_type": "stream",
          "name": "stdout",
          "text": [
            "Mounted at /content/gdrive\n"
          ]
        }
      ]
    },
    {
      "cell_type": "code",
      "metadata": {
        "id": "mK-lFl7l-WTj"
      },
      "source": [
        "# Load thermal comfort database\n",
        "ieq_data = pd.read_csv(\"ashrae_thermal_comfort_database_2.csv\", index_col='Unnamed: 0')"
      ],
      "execution_count": 3,
      "outputs": []
    },
    {
      "cell_type": "code",
      "source": [
        "ieq_data.info()"
      ],
      "metadata": {
        "colab": {
          "base_uri": "https://localhost:8080/"
        },
        "id": "07KmyVVjK60J",
        "outputId": "df449a9b-384e-43cc-8f2a-2753cb1dc5db"
      },
      "execution_count": 8,
      "outputs": [
        {
          "output_type": "stream",
          "name": "stdout",
          "text": [
            "<class 'pandas.core.frame.DataFrame'>\n",
            "Int64Index: 43448 entries, 2233 to 104033\n",
            "Data columns (total 16 columns):\n",
            " #   Column                           Non-Null Count  Dtype  \n",
            "---  ------                           --------------  -----  \n",
            " 0   Publication (Citation)           43448 non-null  object \n",
            " 1   Year                             43448 non-null  float64\n",
            " 2   Season                           43448 non-null  object \n",
            " 3   Climate                          43448 non-null  object \n",
            " 4   City                             43448 non-null  object \n",
            " 5   Country                          43448 non-null  object \n",
            " 6   Building type                    43448 non-null  object \n",
            " 7   Cooling startegy_building level  43448 non-null  object \n",
            " 8   Sex                              43448 non-null  object \n",
            " 9   Thermal sensation                43448 non-null  float64\n",
            " 10  Clo                              43448 non-null  float64\n",
            " 11  Met                              43448 non-null  float64\n",
            " 12  Air temperature (C)              43448 non-null  float64\n",
            " 13  Relative humidity (%)            43448 non-null  float64\n",
            " 14  Air velocity (m/s)               43448 non-null  float64\n",
            " 15  ThermalSensation_rounded         43448 non-null  float64\n",
            "dtypes: float64(8), object(8)\n",
            "memory usage: 6.6+ MB\n"
          ]
        }
      ]
    },
    {
      "cell_type": "markdown",
      "metadata": {
        "id": "zK4C2bp-AQj4"
      },
      "source": [
        "## Boxplot Example in Seaborn\n",
        "\n",
        "Before we get into the exercises, let's look at an example of how we can use boxplots to compare distributions between different groups. In the figure below, we have created a visualization that shows the **Air temperature (C)** has significantly different distributions under different **Thermal sensation**.\n",
        "\n",
        "For example, **Air temperature (C)** with the lowest **ThermalSensation_rounded** value (-3.0) has the distribution of lower values (seeing the boxplot body that covers 50% of the data)."
      ]
    },
    {
      "cell_type": "code",
      "metadata": {
        "id": "tr8uYvMp-d2d",
        "colab": {
          "base_uri": "https://localhost:8080/",
          "height": 407
        },
        "outputId": "f829ab06-c863-4eaa-84b5-fd42ba5cf058"
      },
      "source": [
        "# Boxplot for Air temperature (C) under different Thermal sensation\n",
        "fig, ax = plt.subplots()\n",
        "fig.set_size_inches(10,6)\n",
        "sns.boxplot(x=\"ThermalSensation_rounded\", y=\"Air temperature (C)\", data=ieq_data)"
      ],
      "execution_count": 4,
      "outputs": [
        {
          "output_type": "execute_result",
          "data": {
            "text/plain": [
              "<matplotlib.axes._subplots.AxesSubplot at 0x7f4b5b6e6290>"
            ]
          },
          "metadata": {},
          "execution_count": 4
        },
        {
          "output_type": "display_data",
          "data": {
            "text/plain": [
              "<Figure size 720x432 with 1 Axes>"
            ],
            "image/png": "[encoded data removed]"
          },
          "metadata": {
            "needs_background": "light"
          }
        }
      ]
    },
    {
      "cell_type": "markdown",
      "metadata": {
        "id": "ZpVo1sEVCg9k"
      },
      "source": [
        "## Exercise 04.2.1 -- Which country has the lowest median relative humidity?\n",
        "\n",
        "After the example shown above, you should be more familiar with how to use boxplot in Seaborn package! \n",
        "\n",
        "Now, imagine you are an environmental researcher who mainly studies **humidity conditions** of our surrounding environments, especially focusing on where the **lowest** relative humidity happens.\n",
        "\n",
        "So, in our first exercise, let's begin with considering only one variable (or column) - **Country**. In terms of **median**, find the country with the lowest **Relative humidity (%)**, according to the dataset (for example, **Singapore** could be one of possible answers).\n",
        "\n",
        " You are encouraged to draw boxplots of **Relative humidity (%)** for each of the different **Country**, just like the example we demonstrated.\n",
        "\n",
        "**Note**: All measurements in `ASHRAE Thermal Comfort Database II` were collected from field experiments research projects, including indoor and outdoor environments, so they might not represent the local climate or general indoor condition."
      ]
    },
    {
      "cell_type": "code",
      "metadata": {
        "id": "_8Lvgaug1E3N",
        "colab": {
          "base_uri": "https://localhost:8080/",
          "height": 624
        },
        "outputId": "8ae597ff-298c-43e2-9e5d-ee82366458b7"
      },
      "source": [
        "# Try to use the seaborn example from above. If the x-axis labels are too hard to read, try to adjust the parameters in set_size_inches() or switch X and Y axis\n",
        "# YOUR CODE HERE\n",
        "\n",
        "fig, ax = plt.subplots()\n",
        "fig.set_size_inches(10,10)\n",
        "sns.boxplot(x=\"Country\", y=\"Relative humidity (%)\", data=ieq_data)"
      ],
      "execution_count": 7,
      "outputs": [
        {
          "output_type": "execute_result",
          "data": {
            "text/plain": [
              "<matplotlib.axes._subplots.AxesSubplot at 0x7f4b5a8ab650>"
            ]
          },
          "metadata": {},
          "execution_count": 7
        },
        {
          "output_type": "display_data",
          "data": {
            "text/plain": [
              "<Figure size 720x720 with 1 Axes>"
            ],
            "image/png": "[encoded data removed]"
          },
          "metadata": {
            "needs_background": "light"
          }
        }
      ]
    },
    {
      "cell_type": "markdown",
      "metadata": {
        "id": "NuaxoWkB3diM"
      },
      "source": [
        "## Exercise 04.2.2 - Which country and season has the lowest median relative humidity?\n",
        "\n",
        "In 4.2.1, we got the lowest median relative humidity among different countries. However, the distribution of humidity is also strongly affected by different seasons. Therefore, in this exercise, please consider both **Country** and **Season** at the same time to find the lowest median **Relative humidity (%)**.\n",
        "\n",
        "Find the country and season with the lowest **median** **Relative humidity (%)** (for example, **Singapore-Summer** could be one of possible answers)."
      ]
    },
    {
      "cell_type": "code",
      "metadata": {
        "id": "O5Y2bHy-3vhi",
        "colab": {
          "base_uri": "https://localhost:8080/",
          "height": 624
        },
        "outputId": "08b9132b-5517-402a-e32a-448f07231f90"
      },
      "source": [
        "# If the x-axis labels are too hard to read, try to adjust the parameters in set_size_inches() or switch X and Y axis\n",
        "# YOUR CODE HERE\n",
        "fig, ax = plt.subplots()\n",
        "fig.set_size_inches(10,10)\n",
        "sns.boxplot(x=\"Country\", y=\"Relative humidity (%)\", hue=\"Season\", data=ieq_data)"
      ],
      "execution_count": 10,
      "outputs": [
        {
          "output_type": "execute_result",
          "data": {
            "text/plain": [
              "<matplotlib.axes._subplots.AxesSubplot at 0x7f4b59d27310>"
            ]
          },
          "metadata": {},
          "execution_count": 10
        },
        {
          "output_type": "display_data",
          "data": {
            "text/plain": [
              "<Figure size 720x720 with 1 Axes>"
            ],
            "image/png": "[encoded data removed]"
          },
          "metadata": {
            "needs_background": "light"
          }
        }
      ]
    },
    {
      "cell_type": "markdown",
      "metadata": {
        "id": "XaWJXJE9Lts5"
      },
      "source": [
        "## Exercise 04.2.3 - Which country, season, and building type, has the lowest median relative humidity? - Advanced\n",
        "\n",
        "Based on the problems above, we can get the minimum relative humidity by taking into account both the **Country** and the **Season**. However, **Building type** is also an important factor influencing the indoor environment, and we should consider this as well. In addition, some subsets in the `ASHRAE Thermal Comfort Database II` have rows with incomplete data that might not give a reliable result, so they should be removed.\n",
        "\n",
        "So, in this exercise, we want to (1) consider three conditions at the same time: **Country**, **Season** and **Building type**, and (2) **remove the subset with less than 100 rows** (e.g., the subset Sweden-Winter-Classroom with only 54 data rows should be removed).\n",
        "\n",
        "Find the **Country**, **Season**, and **Building type** with the lowest `median` **Relative humidity (%)**\n",
        "\n",
        "Please provide the answer in the following format: \"country-season-building type\", with the first letter capitalized, for example, **Singapore-Summer-Office**"
      ]
    },
    {
      "cell_type": "code",
      "metadata": {
        "id": "beVwzJOwtDkG",
        "colab": {
          "base_uri": "https://localhost:8080/",
          "height": 238
        },
        "outputId": "2f7cc4e0-1fc4-4a37-86b6-1ee056b24760"
      },
      "source": [
        "# Create a dataframe of counts by using groupby(by=['var1','var2','var3']), and put list of variables as parameter in function\n",
        "# YOUR CODE HERE\n",
        "listOfVariable = ['Country', 'Season', 'Building type']\n",
        "\n",
        "grouped_df = ieq_data.groupby(by = listOfVariable).agg(['count', 'mean'])\n",
        "grouped_df_RH = grouped_df['Relative humidity (%)']\n",
        "\n",
        "filtered_df_RH = grouped_df_RH[grouped_df_RH['count'] >= 100]\n",
        "\n",
        "filtered_df_RH.head()"
      ],
      "execution_count": 112,
      "outputs": [
        {
          "output_type": "execute_result",
          "data": {
            "text/plain": [
              "                                count       mean\n",
              "Country   Season Building type                  \n",
              "Australia Autumn Office           234  47.427778\n",
              "          Summer Office          4998  51.330112\n",
              "                 Senior center    206  54.158738\n",
              "          Winter Office          1199  47.832527\n",
              "                 Senior center    214  44.157944"
            ],
            "text/html": [
              "\n",
              "  <div id=\"df-b213ead7-fdf8-4dcd-859c-43bc609f919e\">\n",
              "    <div class=\"colab-df-container\">\n",
              "      <div>\n",
              "<style scoped>\n",
              "    .dataframe tbody tr th:only-of-type {\n",
              "        vertical-align: middle;\n",
              "    }\n",
              "\n",
              "    .dataframe tbody tr th {\n",
              "        vertical-align: top;\n",
              "    }\n",
              "\n",
              "    .dataframe thead th {\n",
              "        text-align: right;\n",
              "    }\n",
              "</style>\n",
              "<table border=\"1\" class=\"dataframe\">\n",
              "  <thead>\n",
              "    <tr style=\"text-align: right;\">\n",
              "      <th></th>\n",
              "      <th></th>\n",
              "      <th></th>\n",
              "      <th>count</th>\n",
              "      <th>mean</th>\n",
              "    </tr>\n",
              "    <tr>\n",
              "      <th>Country</th>\n",
              "      <th>Season</th>\n",
              "      <th>Building type</th>\n",
              "      <th></th>\n",
              "      <th></th>\n",
              "    </tr>\n",
              "  </thead>\n",
              "  <tbody>\n",
              "    <tr>\n",
              "      <th rowspan=\"5\" valign=\"top\">Australia</th>\n",
              "      <th>Autumn</th>\n",
              "      <th>Office</th>\n",
              "      <td>234</td>\n",
              "      <td>47.427778</td>\n",
              "    </tr>\n",
              "    <tr>\n",
              "      <th rowspan=\"2\" valign=\"top\">Summer</th>\n",
              "      <th>Office</th>\n",
              "      <td>4998</td>\n",
              "      <td>51.330112</td>\n",
              "    </tr>\n",
              "    <tr>\n",
              "      <th>Senior center</th>\n",
              "      <td>206</td>\n",
              "      <td>54.158738</td>\n",
              "    </tr>\n",
              "    <tr>\n",
              "      <th rowspan=\"2\" valign=\"top\">Winter</th>\n",
              "      <th>Office</th>\n",
              "      <td>1199</td>\n",
              "      <td>47.832527</td>\n",
              "    </tr>\n",
              "    <tr>\n",
              "      <th>Senior center</th>\n",
              "      <td>214</td>\n",
              "      <td>44.157944</td>\n",
              "    </tr>\n",
              "  </tbody>\n",
              "</table>\n",
              "</div>\n",
              "      <button class=\"colab-df-convert\" onclick=\"convertToInteractive('df-b213ead7-fdf8-4dcd-859c-43bc609f919e')\"\n",
              "              title=\"Convert this dataframe to an interactive table.\"\n",
              "              style=\"display:none;\">\n",
              "        \n",
              "  <svg xmlns=\"http://www.w3.org/2000/svg\" height=\"24px\"viewBox=\"0 0 24 24\"\n",
              "       width=\"24px\">\n",
              "    <path d=\"M0 0h24v24H0V0z\" fill=\"none\"/>\n",
              "    <path d=\"M18.56 5.44l.94 2.06.94-2.06 2.06-.94-2.06-.94-.94-2.06-.94 2.06-2.06.94zm-11 1L8.5 8.5l.94-2.06 2.06-.94-2.06-.94L8.5 2.5l-.94 2.06-2.06.94zm10 10l.94 2.06.94-2.06 2.06-.94-2.06-.94-.94-2.06-.94 2.06-2.06.94z\"/><path d=\"M17.41 7.96l-1.37-1.37c-.4-.4-.92-.59-1.43-.59-.52 0-1.04.2-1.43.59L10.3 9.45l-7.72 7.72c-.78.78-.78 2.05 0 2.83L4 21.41c.39.39.9.59 1.41.59.51 0 1.02-.2 1.41-.59l7.78-7.78 2.81-2.81c.8-.78.8-2.07 0-2.86zM5.41 20L4 18.59l7.72-7.72 1.47 1.35L5.41 20z\"/>\n",
              "  </svg>\n",
              "      </button>\n",
              "      \n",
              "  <style>\n",
              "    .colab-df-container {\n",
              "      display:flex;\n",
              "      flex-wrap:wrap;\n",
              "      gap: 12px;\n",
              "    }\n",
              "\n",
              "    .colab-df-convert {\n",
              "      background-color: #E8F0FE;\n",
              "      border: none;\n",
              "      border-radius: 50%;\n",
              "      cursor: pointer;\n",
              "      display: none;\n",
              "      fill: #1967D2;\n",
              "      height: 32px;\n",
              "      padding: 0 0 0 0;\n",
              "      width: 32px;\n",
              "    }\n",
              "\n",
              "    .colab-df-convert:hover {\n",
              "      background-color: #E2EBFA;\n",
              "      box-shadow: 0px 1px 2px rgba(60, 64, 67, 0.3), 0px 1px 3px 1px rgba(60, 64, 67, 0.15);\n",
              "      fill: #174EA6;\n",
              "    }\n",
              "\n",
              "    [theme=dark] .colab-df-convert {\n",
              "      background-color: #3B4455;\n",
              "      fill: #D2E3FC;\n",
              "    }\n",
              "\n",
              "    [theme=dark] .colab-df-convert:hover {\n",
              "      background-color: #434B5C;\n",
              "      box-shadow: 0px 1px 3px 1px rgba(0, 0, 0, 0.15);\n",
              "      filter: drop-shadow(0px 1px 2px rgba(0, 0, 0, 0.3));\n",
              "      fill: #FFFFFF;\n",
              "    }\n",
              "  </style>\n",
              "\n",
              "      <script>\n",
              "        const buttonEl =\n",
              "          document.querySelector('#df-b213ead7-fdf8-4dcd-859c-43bc609f919e button.colab-df-convert');\n",
              "        buttonEl.style.display =\n",
              "          google.colab.kernel.accessAllowed ? 'block' : 'none';\n",
              "\n",
              "        async function convertToInteractive(key) {\n",
              "          const element = document.querySelector('#df-b213ead7-fdf8-4dcd-859c-43bc609f919e');\n",
              "          const dataTable =\n",
              "            await google.colab.kernel.invokeFunction('convertToInteractive',\n",
              "                                                     [key], {});\n",
              "          if (!dataTable) return;\n",
              "\n",
              "          const docLinkHtml = 'Like what you see? Visit the ' +\n",
              "            '<a target=\"_blank\" href=https://colab.research.google.com/notebooks/data_table.ipynb>data table notebook</a>'\n",
              "            + ' to learn more about interactive tables.';\n",
              "          element.innerHTML = '';\n",
              "          dataTable['output_type'] = 'display_data';\n",
              "          await google.colab.output.renderOutput(dataTable, element);\n",
              "          const docLink = document.createElement('div');\n",
              "          docLink.innerHTML = docLinkHtml;\n",
              "          element.appendChild(docLink);\n",
              "        }\n",
              "      </script>\n",
              "    </div>\n",
              "  </div>\n",
              "  "
            ]
          },
          "metadata": {},
          "execution_count": 112
        }
      ]
    },
    {
      "cell_type": "code",
      "metadata": {
        "id": "guxgvgl2AC6X"
      },
      "source": [
        "# Create a dataframe of medians by using groupby(by=listOfVariable), where listOfVariable is a list of variable names\n",
        "# YOUR CODE HERE\n",
        "filtered_df_RH_mean = filtered_df_RH['mean']\n"
      ],
      "execution_count": 113,
      "outputs": []
    },
    {
      "cell_type": "code",
      "metadata": {
        "id": "Ms-tD-PwXQpw",
        "colab": {
          "base_uri": "https://localhost:8080/"
        },
        "outputId": "b7fac44d-ad84-4ea0-a1fe-2f8d01b13a30"
      },
      "source": [
        "# Use dataframe of counts as filter (keep subsets with more or equal than 100 data rows) and find the lowest value\n",
        "# YOUR CODE HERE\n",
        "filtered_df_RH_mean.idxmin()"
      ],
      "execution_count": 115,
      "outputs": [
        {
          "output_type": "execute_result",
          "data": {
            "text/plain": [
              "('Canada', 'Winter', 'Others')"
            ]
          },
          "metadata": {},
          "execution_count": 115
        }
      ]
    },
    {
      "cell_type": "markdown",
      "metadata": {
        "id": "aaUhg9VKgobH"
      },
      "source": [
        "### **Please note that you will need to use the resultant output from Exercise 04.2.3 for the Quiz 4.2.**\n",
        "**(The answer should follow the format:\"country-season-building type\", with the first letter capitalized, for example, Singapore-Summer-Office)**"
      ]
    },
    {
      "cell_type": "code",
      "metadata": {
        "id": "opWxmVZ3efDK"
      },
      "source": [
        "answer = \"Canada-Winter-Others\""
      ],
      "execution_count": 116,
      "outputs": []
    }
  ]
}