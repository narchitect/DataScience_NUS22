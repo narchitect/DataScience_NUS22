{
  "nbformat": 4,
  "nbformat_minor": 0,
  "metadata": {
    "colab": {
      "name": " Exercise 3.1 - Pandas Time-Series I",
      "provenance": [],
      "collapsed_sections": [],
      "include_colab_link": true
    },
    "kernelspec": {
      "name": "python3",
      "display_name": "Python 3"
    }
  },
  "cells": [
    {
      "cell_type": "markdown",
      "metadata": {
        "id": "view-in-github",
        "colab_type": "text"
      },
      "source": [
        "<a href=\"https://colab.research.google.com/github/narchitect/NUS_Data-Science/blob/main/Exercise_3_1_Pandas_Time_Series_I.ipynb\" target=\"_parent\"><img src=\"https://colab.research.google.com/assets/colab-badge.svg\" alt=\"Open In Colab\"/></a>"
      ]
    },
    {
      "cell_type": "markdown",
      "metadata": {
        "id": "bIO90CQKXSDe"
      },
      "source": [
        "# Data Science for Construction, Architecture and Engineering\n",
        "\n",
        "### Week 3 - Construction - Pandas Time-Series Data\n",
        "\n",
        "### Exercise Set 3.1 - Pandas Time-Series I\n",
        "\n",
        "This set of exercises is the first of two sets for Week 3. These exercises are designed to give you some hands on experience in trying out the concepts from the first set of videos for this week.\n",
        "\n",
        "There is an introduction video available to explain the process of using this exercise video.\n",
        "\n",
        "The lead developer of this exercise is James Zhan Sicheng, a Ph.D. student at NUS and a teaching assistant of this course. "
      ]
    },
    {
      "cell_type": "markdown",
      "metadata": {
        "id": "ABIHzdSuolvx"
      },
      "source": [
        "# Exercise 03.1\n",
        "\n",
        "There are three exercises in this set, focusing on the use of the [Pandas](https://pandas.pydata.org/) functions introduced in the videos: read, resample, truncate and plot.\n",
        "\n",
        "### Please note that you will need to use the resultant output from Exercise 03.1.3 for the Quiz 3.1."
      ]
    },
    {
      "cell_type": "markdown",
      "metadata": {
        "id": "iTrZjmkZZ-rE"
      },
      "source": [
        "#### Setup the environment\n",
        "The cell below is used to load the necessary packages for this exercise and setup the working directory. You will be asked to give the google drive authorization using through a given link."
      ]
    },
    {
      "cell_type": "code",
      "metadata": {
        "id": "evJcVnLZbFo5"
      },
      "source": [
        "import pandas as pd\n",
        "from google.colab import drive\n",
        "import os\n",
        "import numpy as np"
      ],
      "execution_count": 8,
      "outputs": []
    },
    {
      "cell_type": "code",
      "metadata": {
        "id": "SF9wnvdgzwEC",
        "colab": {
          "base_uri": "https://localhost:8080/"
        },
        "outputId": "b79a9cb2-77cd-49f5-db9e-1e9dab45c738"
      },
      "source": [
        "drive.mount('/content/gdrive')"
      ],
      "execution_count": 9,
      "outputs": [
        {
          "output_type": "stream",
          "name": "stdout",
          "text": [
            "Mounted at /content/gdrive\n"
          ]
        }
      ]
    },
    {
      "cell_type": "markdown",
      "metadata": {
        "id": "xmWizPiTzxQY"
      },
      "source": [
        "In order to do the following exercises, we will go ahead and load the `meta` data file. Please note that we're using the `os` library again to navigate our file struture to *change the directory* to find the right files.\n",
        "\n",
        "**Important Note** - if your file structure is different from what you see below, then you will get an error. You will need to change your file locations *or* update the file path"
      ]
    },
    {
      "cell_type": "code",
      "metadata": {
        "id": "CaZpKu9ntWDW"
      },
      "source": [
        "# read meta data file as pandas dataframe and assign to the corresponding variables\n",
        "os.chdir(\"/content/gdrive/My Drive/EDX Data Science for Construction, Architecture and Engineering/3 - Construction - Pandas Fundamentals/\")\n",
        "metadata = pd.read_csv('all_buildings_meta_data.csv')"
      ],
      "execution_count": null,
      "outputs": []
    },
    {
      "cell_type": "markdown",
      "metadata": {
        "id": "-9ZtoVcdN7Wp"
      },
      "source": [
        "### Exercise 03.1.1 - Loading Meter Data from Specific Files\n",
        "\n",
        "Sometimes you need to grab and process data only from certain files to analyze. You want to first filter those buildings that have certain attributes.\n"
      ]
    },
    {
      "cell_type": "markdown",
      "metadata": {
        "id": "cAIeD95zd6fx"
      },
      "source": [
        "Use `metadata` to find the specific building that meet the description and retrieve the required information. This code:\n",
        "- Use the `.loc` function to identify the building located in **America/Phoenix**, having **College Laboratory** as `primaryspaceUsage` and having floor area larger than **30000** `sqm`\n",
        "- print out the `uid`, `nickname`, `newweatherfilename` and `yearbuilt` of the building"
      ]
    },
    {
      "cell_type": "code",
      "metadata": {
        "id": "jLh0x4OqJdzc",
        "colab": {
          "base_uri": "https://localhost:8080/",
          "height": 162
        },
        "outputId": "a0fdb85f-23c8-491a-de2b-36afc0ac2f29"
      },
      "source": [
        "# Retrieve the required information according to the given conditions\n",
        "# YOUR CODE HERE\n",
        "df = metadata.loc[metadata['timezone'] == \"America/Phoenix\"]\n",
        "df = df.loc[metadata['primaryspaceusage'] == 'College Laboratory']\n",
        "df = df.loc[metadata['sqm'] > 30000]\n",
        "\n",
        "df.loc[448,['uid', 'nickname','newweatherfilename','yearbuilt']]\n",
        "\n",
        "df\n",
        "\n",
        "\n"
      ],
      "execution_count": 71,
      "outputs": [
        {
          "output_type": "execute_result",
          "data": {
            "text/plain": [
              "                 uid         dataend       datastart  energystarscore  \\\n",
              "448  UnivLab_Ashlynn  31/12/15 23:00  01/01/15 00:00              NaN   \n",
              "\n",
              "    heatingtype   industry mainheatingtype  numberoffloors  occupants  \\\n",
              "448         NaN  Education             NaN             NaN        NaN   \n",
              "\n",
              "      primaryspaceusage rating      sqft          sqm         subindustry  \\\n",
              "448  College Laboratory    NaN  327256.0  30403.06417  College/University   \n",
              "\n",
              "            timezone yearbuilt nickname primaryspaceuse_abbrev  \\\n",
              "448  America/Phoenix      2012  Ashlynn                UnivLab   \n",
              "\n",
              "    newweatherfilename  \n",
              "448       weather0.csv  "
            ],
            "text/html": [
              "\n",
              "  <div id=\"df-54176418-c42b-4433-bec5-936a29910f49\">\n",
              "    <div class=\"colab-df-container\">\n",
              "      <div>\n",
              "<style scoped>\n",
              "    .dataframe tbody tr th:only-of-type {\n",
              "        vertical-align: middle;\n",
              "    }\n",
              "\n",
              "    .dataframe tbody tr th {\n",
              "        vertical-align: top;\n",
              "    }\n",
              "\n",
              "    .dataframe thead th {\n",
              "        text-align: right;\n",
              "    }\n",
              "</style>\n",
              "<table border=\"1\" class=\"dataframe\">\n",
              "  <thead>\n",
              "    <tr style=\"text-align: right;\">\n",
              "      <th></th>\n",
              "      <th>uid</th>\n",
              "      <th>dataend</th>\n",
              "      <th>datastart</th>\n",
              "      <th>energystarscore</th>\n",
              "      <th>heatingtype</th>\n",
              "      <th>industry</th>\n",
              "      <th>mainheatingtype</th>\n",
              "      <th>numberoffloors</th>\n",
              "      <th>occupants</th>\n",
              "      <th>primaryspaceusage</th>\n",
              "      <th>rating</th>\n",
              "      <th>sqft</th>\n",
              "      <th>sqm</th>\n",
              "      <th>subindustry</th>\n",
              "      <th>timezone</th>\n",
              "      <th>yearbuilt</th>\n",
              "      <th>nickname</th>\n",
              "      <th>primaryspaceuse_abbrev</th>\n",
              "      <th>newweatherfilename</th>\n",
              "    </tr>\n",
              "  </thead>\n",
              "  <tbody>\n",
              "    <tr>\n",
              "      <th>448</th>\n",
              "      <td>UnivLab_Ashlynn</td>\n",
              "      <td>31/12/15 23:00</td>\n",
              "      <td>01/01/15 00:00</td>\n",
              "      <td>NaN</td>\n",
              "      <td>NaN</td>\n",
              "      <td>Education</td>\n",
              "      <td>NaN</td>\n",
              "      <td>NaN</td>\n",
              "      <td>NaN</td>\n",
              "      <td>College Laboratory</td>\n",
              "      <td>NaN</td>\n",
              "      <td>327256.0</td>\n",
              "      <td>30403.06417</td>\n",
              "      <td>College/University</td>\n",
              "      <td>America/Phoenix</td>\n",
              "      <td>2012</td>\n",
              "      <td>Ashlynn</td>\n",
              "      <td>UnivLab</td>\n",
              "      <td>weather0.csv</td>\n",
              "    </tr>\n",
              "  </tbody>\n",
              "</table>\n",
              "</div>\n",
              "      <button class=\"colab-df-convert\" onclick=\"convertToInteractive('df-54176418-c42b-4433-bec5-936a29910f49')\"\n",
              "              title=\"Convert this dataframe to an interactive table.\"\n",
              "              style=\"display:none;\">\n",
              "        \n",
              "  <svg xmlns=\"http://www.w3.org/2000/svg\" height=\"24px\"viewBox=\"0 0 24 24\"\n",
              "       width=\"24px\">\n",
              "    <path d=\"M0 0h24v24H0V0z\" fill=\"none\"/>\n",
              "    <path d=\"M18.56 5.44l.94 2.06.94-2.06 2.06-.94-2.06-.94-.94-2.06-.94 2.06-2.06.94zm-11 1L8.5 8.5l.94-2.06 2.06-.94-2.06-.94L8.5 2.5l-.94 2.06-2.06.94zm10 10l.94 2.06.94-2.06 2.06-.94-2.06-.94-.94-2.06-.94 2.06-2.06.94z\"/><path d=\"M17.41 7.96l-1.37-1.37c-.4-.4-.92-.59-1.43-.59-.52 0-1.04.2-1.43.59L10.3 9.45l-7.72 7.72c-.78.78-.78 2.05 0 2.83L4 21.41c.39.39.9.59 1.41.59.51 0 1.02-.2 1.41-.59l7.78-7.78 2.81-2.81c.8-.78.8-2.07 0-2.86zM5.41 20L4 18.59l7.72-7.72 1.47 1.35L5.41 20z\"/>\n",
              "  </svg>\n",
              "      </button>\n",
              "      \n",
              "  <style>\n",
              "    .colab-df-container {\n",
              "      display:flex;\n",
              "      flex-wrap:wrap;\n",
              "      gap: 12px;\n",
              "    }\n",
              "\n",
              "    .colab-df-convert {\n",
              "      background-color: #E8F0FE;\n",
              "      border: none;\n",
              "      border-radius: 50%;\n",
              "      cursor: pointer;\n",
              "      display: none;\n",
              "      fill: #1967D2;\n",
              "      height: 32px;\n",
              "      padding: 0 0 0 0;\n",
              "      width: 32px;\n",
              "    }\n",
              "\n",
              "    .colab-df-convert:hover {\n",
              "      background-color: #E2EBFA;\n",
              "      box-shadow: 0px 1px 2px rgba(60, 64, 67, 0.3), 0px 1px 3px 1px rgba(60, 64, 67, 0.15);\n",
              "      fill: #174EA6;\n",
              "    }\n",
              "\n",
              "    [theme=dark] .colab-df-convert {\n",
              "      background-color: #3B4455;\n",
              "      fill: #D2E3FC;\n",
              "    }\n",
              "\n",
              "    [theme=dark] .colab-df-convert:hover {\n",
              "      background-color: #434B5C;\n",
              "      box-shadow: 0px 1px 3px 1px rgba(0, 0, 0, 0.15);\n",
              "      filter: drop-shadow(0px 1px 2px rgba(0, 0, 0, 0.3));\n",
              "      fill: #FFFFFF;\n",
              "    }\n",
              "  </style>\n",
              "\n",
              "      <script>\n",
              "        const buttonEl =\n",
              "          document.querySelector('#df-54176418-c42b-4433-bec5-936a29910f49 button.colab-df-convert');\n",
              "        buttonEl.style.display =\n",
              "          google.colab.kernel.accessAllowed ? 'block' : 'none';\n",
              "\n",
              "        async function convertToInteractive(key) {\n",
              "          const element = document.querySelector('#df-54176418-c42b-4433-bec5-936a29910f49');\n",
              "          const dataTable =\n",
              "            await google.colab.kernel.invokeFunction('convertToInteractive',\n",
              "                                                     [key], {});\n",
              "          if (!dataTable) return;\n",
              "\n",
              "          const docLinkHtml = 'Like what you see? Visit the ' +\n",
              "            '<a target=\"_blank\" href=https://colab.research.google.com/notebooks/data_table.ipynb>data table notebook</a>'\n",
              "            + ' to learn more about interactive tables.';\n",
              "          element.innerHTML = '';\n",
              "          dataTable['output_type'] = 'display_data';\n",
              "          await google.colab.output.renderOutput(dataTable, element);\n",
              "          const docLink = document.createElement('div');\n",
              "          docLink.innerHTML = docLinkHtml;\n",
              "          element.appendChild(docLink);\n",
              "        }\n",
              "      </script>\n",
              "    </div>\n",
              "  </div>\n",
              "  "
            ]
          },
          "metadata": {},
          "execution_count": 71
        }
      ]
    },
    {
      "cell_type": "markdown",
      "metadata": {
        "id": "4iXg1vBI2sM1"
      },
      "source": [
        "Now, use the `read_csv` function to read the following time-series data as Pandas DataFrame: \n",
        "1. The meter data file of the identified building (`uid` in the `filtered_metadata`); \n",
        "2. The `TemperatureC` and `Humidity` of the identified building (`newweatherfilename` in the `filtered_metadata`);\n",
        "\n",
        "Tips:\n",
        "- Be careful about the datatype when getting the values in `filtered_meterdata`\n",
        "- The weather and meter files are in different folders, and the meter file names need a `.csv` in addition to the name in order to be loaded\n",
        "- Set the timestamp column as index (`index_col`)\n",
        "- Have the timestamp as datetime data type (`parse_dates`)\n",
        "- Keep only the `TemperatureC` and `Humidity` for weather data (`usecols`)"
      ]
    },
    {
      "cell_type": "code",
      "source": [
        "from google.colab import drive\n",
        "drive.mount('/content/drive')\n",
        "os.chdir(\"/content/drive/MyDrive/EDX Data Science for Construction, Architecture and Engineering/3 - Construction - Pandas Fundamentals/meter_data\")"
      ],
      "metadata": {
        "colab": {
          "base_uri": "https://localhost:8080/"
        },
        "id": "x8YKtwUAK54L",
        "outputId": "bad9c780-cc72-4917-cb6a-1387e95fd396"
      },
      "execution_count": 56,
      "outputs": [
        {
          "output_type": "stream",
          "name": "stdout",
          "text": [
            "Drive already mounted at /content/drive; to attempt to forcibly remount, call drive.mount(\"/content/drive\", force_remount=True).\n"
          ]
        }
      ]
    },
    {
      "cell_type": "code",
      "metadata": {
        "id": "n7dPg30HN61z",
        "colab": {
          "base_uri": "https://localhost:8080/",
          "height": 455
        },
        "outputId": "57976abc-95c9-42ac-ae34-4fe566d1e4cf"
      },
      "source": [
        "# Load the specific energy consumption and weather data as identified \n",
        "# YOUR CODE HERE\n",
        "uid = df.at[448,'uid']\n",
        "uid_csv = uid +'.csv'\n",
        "weatherfilename = df.at[448,'newweatherfilename']\n",
        "os.chdir(\"/content/drive/MyDrive/EDX Data Science for Construction, Architecture and Engineering/3 - Construction - Pandas Fundamentals/meter_data\")\n",
        "meter_data = pd.read_csv(uid_csv, index_col ='timestamp', parse_dates = True)\n",
        "\n",
        "meter_data"
      ],
      "execution_count": 72,
      "outputs": [
        {
          "output_type": "execute_result",
          "data": {
            "text/plain": [
              "                     UnivLab_Ashlynn\n",
              "timestamp                           \n",
              "2015-01-01 00:00:00           898.79\n",
              "2015-01-01 01:00:00           887.98\n",
              "2015-01-01 02:00:00           892.02\n",
              "2015-01-01 03:00:00           889.06\n",
              "2015-01-01 04:00:00           881.37\n",
              "...                              ...\n",
              "2015-12-31 19:00:00           869.86\n",
              "2015-12-31 20:00:00           864.22\n",
              "2015-12-31 21:00:00           884.05\n",
              "2015-12-31 22:00:00           857.23\n",
              "2015-12-31 23:00:00           858.44\n",
              "\n",
              "[8760 rows x 1 columns]"
            ],
            "text/html": [
              "\n",
              "  <div id=\"df-a0cc9ae8-c051-4937-a221-23e7e9fd6ac5\">\n",
              "    <div class=\"colab-df-container\">\n",
              "      <div>\n",
              "<style scoped>\n",
              "    .dataframe tbody tr th:only-of-type {\n",
              "        vertical-align: middle;\n",
              "    }\n",
              "\n",
              "    .dataframe tbody tr th {\n",
              "        vertical-align: top;\n",
              "    }\n",
              "\n",
              "    .dataframe thead th {\n",
              "        text-align: right;\n",
              "    }\n",
              "</style>\n",
              "<table border=\"1\" class=\"dataframe\">\n",
              "  <thead>\n",
              "    <tr style=\"text-align: right;\">\n",
              "      <th></th>\n",
              "      <th>UnivLab_Ashlynn</th>\n",
              "    </tr>\n",
              "    <tr>\n",
              "      <th>timestamp</th>\n",
              "      <th></th>\n",
              "    </tr>\n",
              "  </thead>\n",
              "  <tbody>\n",
              "    <tr>\n",
              "      <th>2015-01-01 00:00:00</th>\n",
              "      <td>898.79</td>\n",
              "    </tr>\n",
              "    <tr>\n",
              "      <th>2015-01-01 01:00:00</th>\n",
              "      <td>887.98</td>\n",
              "    </tr>\n",
              "    <tr>\n",
              "      <th>2015-01-01 02:00:00</th>\n",
              "      <td>892.02</td>\n",
              "    </tr>\n",
              "    <tr>\n",
              "      <th>2015-01-01 03:00:00</th>\n",
              "      <td>889.06</td>\n",
              "    </tr>\n",
              "    <tr>\n",
              "      <th>2015-01-01 04:00:00</th>\n",
              "      <td>881.37</td>\n",
              "    </tr>\n",
              "    <tr>\n",
              "      <th>...</th>\n",
              "      <td>...</td>\n",
              "    </tr>\n",
              "    <tr>\n",
              "      <th>2015-12-31 19:00:00</th>\n",
              "      <td>869.86</td>\n",
              "    </tr>\n",
              "    <tr>\n",
              "      <th>2015-12-31 20:00:00</th>\n",
              "      <td>864.22</td>\n",
              "    </tr>\n",
              "    <tr>\n",
              "      <th>2015-12-31 21:00:00</th>\n",
              "      <td>884.05</td>\n",
              "    </tr>\n",
              "    <tr>\n",
              "      <th>2015-12-31 22:00:00</th>\n",
              "      <td>857.23</td>\n",
              "    </tr>\n",
              "    <tr>\n",
              "      <th>2015-12-31 23:00:00</th>\n",
              "      <td>858.44</td>\n",
              "    </tr>\n",
              "  </tbody>\n",
              "</table>\n",
              "<p>8760 rows × 1 columns</p>\n",
              "</div>\n",
              "      <button class=\"colab-df-convert\" onclick=\"convertToInteractive('df-a0cc9ae8-c051-4937-a221-23e7e9fd6ac5')\"\n",
              "              title=\"Convert this dataframe to an interactive table.\"\n",
              "              style=\"display:none;\">\n",
              "        \n",
              "  <svg xmlns=\"http://www.w3.org/2000/svg\" height=\"24px\"viewBox=\"0 0 24 24\"\n",
              "       width=\"24px\">\n",
              "    <path d=\"M0 0h24v24H0V0z\" fill=\"none\"/>\n",
              "    <path d=\"M18.56 5.44l.94 2.06.94-2.06 2.06-.94-2.06-.94-.94-2.06-.94 2.06-2.06.94zm-11 1L8.5 8.5l.94-2.06 2.06-.94-2.06-.94L8.5 2.5l-.94 2.06-2.06.94zm10 10l.94 2.06.94-2.06 2.06-.94-2.06-.94-.94-2.06-.94 2.06-2.06.94z\"/><path d=\"M17.41 7.96l-1.37-1.37c-.4-.4-.92-.59-1.43-.59-.52 0-1.04.2-1.43.59L10.3 9.45l-7.72 7.72c-.78.78-.78 2.05 0 2.83L4 21.41c.39.39.9.59 1.41.59.51 0 1.02-.2 1.41-.59l7.78-7.78 2.81-2.81c.8-.78.8-2.07 0-2.86zM5.41 20L4 18.59l7.72-7.72 1.47 1.35L5.41 20z\"/>\n",
              "  </svg>\n",
              "      </button>\n",
              "      \n",
              "  <style>\n",
              "    .colab-df-container {\n",
              "      display:flex;\n",
              "      flex-wrap:wrap;\n",
              "      gap: 12px;\n",
              "    }\n",
              "\n",
              "    .colab-df-convert {\n",
              "      background-color: #E8F0FE;\n",
              "      border: none;\n",
              "      border-radius: 50%;\n",
              "      cursor: pointer;\n",
              "      display: none;\n",
              "      fill: #1967D2;\n",
              "      height: 32px;\n",
              "      padding: 0 0 0 0;\n",
              "      width: 32px;\n",
              "    }\n",
              "\n",
              "    .colab-df-convert:hover {\n",
              "      background-color: #E2EBFA;\n",
              "      box-shadow: 0px 1px 2px rgba(60, 64, 67, 0.3), 0px 1px 3px 1px rgba(60, 64, 67, 0.15);\n",
              "      fill: #174EA6;\n",
              "    }\n",
              "\n",
              "    [theme=dark] .colab-df-convert {\n",
              "      background-color: #3B4455;\n",
              "      fill: #D2E3FC;\n",
              "    }\n",
              "\n",
              "    [theme=dark] .colab-df-convert:hover {\n",
              "      background-color: #434B5C;\n",
              "      box-shadow: 0px 1px 3px 1px rgba(0, 0, 0, 0.15);\n",
              "      filter: drop-shadow(0px 1px 2px rgba(0, 0, 0, 0.3));\n",
              "      fill: #FFFFFF;\n",
              "    }\n",
              "  </style>\n",
              "\n",
              "      <script>\n",
              "        const buttonEl =\n",
              "          document.querySelector('#df-a0cc9ae8-c051-4937-a221-23e7e9fd6ac5 button.colab-df-convert');\n",
              "        buttonEl.style.display =\n",
              "          google.colab.kernel.accessAllowed ? 'block' : 'none';\n",
              "\n",
              "        async function convertToInteractive(key) {\n",
              "          const element = document.querySelector('#df-a0cc9ae8-c051-4937-a221-23e7e9fd6ac5');\n",
              "          const dataTable =\n",
              "            await google.colab.kernel.invokeFunction('convertToInteractive',\n",
              "                                                     [key], {});\n",
              "          if (!dataTable) return;\n",
              "\n",
              "          const docLinkHtml = 'Like what you see? Visit the ' +\n",
              "            '<a target=\"_blank\" href=https://colab.research.google.com/notebooks/data_table.ipynb>data table notebook</a>'\n",
              "            + ' to learn more about interactive tables.';\n",
              "          element.innerHTML = '';\n",
              "          dataTable['output_type'] = 'display_data';\n",
              "          await google.colab.output.renderOutput(dataTable, element);\n",
              "          const docLink = document.createElement('div');\n",
              "          docLink.innerHTML = docLinkHtml;\n",
              "          element.appendChild(docLink);\n",
              "        }\n",
              "      </script>\n",
              "    </div>\n",
              "  </div>\n",
              "  "
            ]
          },
          "metadata": {},
          "execution_count": 72
        }
      ]
    },
    {
      "cell_type": "code",
      "source": [
        "os.chdir(\"/content/drive/MyDrive/EDX Data Science for Construction, Architecture and Engineering/3 - Construction - Pandas Fundamentals/weather_data\")\n",
        "weather_data = pd.read_csv(weatherfilename, index_col ='timestamp', parse_dates = True)\n",
        "weather_data = weather_data[['TemperatureC','Humidity']]\n",
        "\n",
        "weather_data"
      ],
      "metadata": {
        "colab": {
          "base_uri": "https://localhost:8080/",
          "height": 455
        },
        "id": "NyblK9MFVWxi",
        "outputId": "29df0a85-2cf0-4fd2-b53d-7d8d684ee879"
      },
      "execution_count": 90,
      "outputs": [
        {
          "output_type": "execute_result",
          "data": {
            "text/plain": [
              "                     TemperatureC  Humidity\n",
              "timestamp                                  \n",
              "2015-01-01 00:51:00           2.8      79.0\n",
              "2015-01-01 01:47:00           3.0      75.0\n",
              "2015-01-01 01:51:00           2.8      79.0\n",
              "2015-01-01 02:51:00           2.8      76.0\n",
              "2015-01-01 03:51:00           2.2      82.0\n",
              "...                           ...       ...\n",
              "2015-12-31 19:51:00          12.2      28.0\n",
              "2015-12-31 20:51:00          11.7      27.0\n",
              "2015-12-31 21:51:00          10.0      31.0\n",
              "2015-12-31 22:51:00           9.4      33.0\n",
              "2015-12-31 23:51:00           7.2      40.0\n",
              "\n",
              "[8999 rows x 2 columns]"
            ],
            "text/html": [
              "\n",
              "  <div id=\"df-d3c4a8ab-6cfb-4b6d-8a2a-ac427a572f99\">\n",
              "    <div class=\"colab-df-container\">\n",
              "      <div>\n",
              "<style scoped>\n",
              "    .dataframe tbody tr th:only-of-type {\n",
              "        vertical-align: middle;\n",
              "    }\n",
              "\n",
              "    .dataframe tbody tr th {\n",
              "        vertical-align: top;\n",
              "    }\n",
              "\n",
              "    .dataframe thead th {\n",
              "        text-align: right;\n",
              "    }\n",
              "</style>\n",
              "<table border=\"1\" class=\"dataframe\">\n",
              "  <thead>\n",
              "    <tr style=\"text-align: right;\">\n",
              "      <th></th>\n",
              "      <th>TemperatureC</th>\n",
              "      <th>Humidity</th>\n",
              "    </tr>\n",
              "    <tr>\n",
              "      <th>timestamp</th>\n",
              "      <th></th>\n",
              "      <th></th>\n",
              "    </tr>\n",
              "  </thead>\n",
              "  <tbody>\n",
              "    <tr>\n",
              "      <th>2015-01-01 00:51:00</th>\n",
              "      <td>2.8</td>\n",
              "      <td>79.0</td>\n",
              "    </tr>\n",
              "    <tr>\n",
              "      <th>2015-01-01 01:47:00</th>\n",
              "      <td>3.0</td>\n",
              "      <td>75.0</td>\n",
              "    </tr>\n",
              "    <tr>\n",
              "      <th>2015-01-01 01:51:00</th>\n",
              "      <td>2.8</td>\n",
              "      <td>79.0</td>\n",
              "    </tr>\n",
              "    <tr>\n",
              "      <th>2015-01-01 02:51:00</th>\n",
              "      <td>2.8</td>\n",
              "      <td>76.0</td>\n",
              "    </tr>\n",
              "    <tr>\n",
              "      <th>2015-01-01 03:51:00</th>\n",
              "      <td>2.2</td>\n",
              "      <td>82.0</td>\n",
              "    </tr>\n",
              "    <tr>\n",
              "      <th>...</th>\n",
              "      <td>...</td>\n",
              "      <td>...</td>\n",
              "    </tr>\n",
              "    <tr>\n",
              "      <th>2015-12-31 19:51:00</th>\n",
              "      <td>12.2</td>\n",
              "      <td>28.0</td>\n",
              "    </tr>\n",
              "    <tr>\n",
              "      <th>2015-12-31 20:51:00</th>\n",
              "      <td>11.7</td>\n",
              "      <td>27.0</td>\n",
              "    </tr>\n",
              "    <tr>\n",
              "      <th>2015-12-31 21:51:00</th>\n",
              "      <td>10.0</td>\n",
              "      <td>31.0</td>\n",
              "    </tr>\n",
              "    <tr>\n",
              "      <th>2015-12-31 22:51:00</th>\n",
              "      <td>9.4</td>\n",
              "      <td>33.0</td>\n",
              "    </tr>\n",
              "    <tr>\n",
              "      <th>2015-12-31 23:51:00</th>\n",
              "      <td>7.2</td>\n",
              "      <td>40.0</td>\n",
              "    </tr>\n",
              "  </tbody>\n",
              "</table>\n",
              "<p>8999 rows × 2 columns</p>\n",
              "</div>\n",
              "      <button class=\"colab-df-convert\" onclick=\"convertToInteractive('df-d3c4a8ab-6cfb-4b6d-8a2a-ac427a572f99')\"\n",
              "              title=\"Convert this dataframe to an interactive table.\"\n",
              "              style=\"display:none;\">\n",
              "        \n",
              "  <svg xmlns=\"http://www.w3.org/2000/svg\" height=\"24px\"viewBox=\"0 0 24 24\"\n",
              "       width=\"24px\">\n",
              "    <path d=\"M0 0h24v24H0V0z\" fill=\"none\"/>\n",
              "    <path d=\"M18.56 5.44l.94 2.06.94-2.06 2.06-.94-2.06-.94-.94-2.06-.94 2.06-2.06.94zm-11 1L8.5 8.5l.94-2.06 2.06-.94-2.06-.94L8.5 2.5l-.94 2.06-2.06.94zm10 10l.94 2.06.94-2.06 2.06-.94-2.06-.94-.94-2.06-.94 2.06-2.06.94z\"/><path d=\"M17.41 7.96l-1.37-1.37c-.4-.4-.92-.59-1.43-.59-.52 0-1.04.2-1.43.59L10.3 9.45l-7.72 7.72c-.78.78-.78 2.05 0 2.83L4 21.41c.39.39.9.59 1.41.59.51 0 1.02-.2 1.41-.59l7.78-7.78 2.81-2.81c.8-.78.8-2.07 0-2.86zM5.41 20L4 18.59l7.72-7.72 1.47 1.35L5.41 20z\"/>\n",
              "  </svg>\n",
              "      </button>\n",
              "      \n",
              "  <style>\n",
              "    .colab-df-container {\n",
              "      display:flex;\n",
              "      flex-wrap:wrap;\n",
              "      gap: 12px;\n",
              "    }\n",
              "\n",
              "    .colab-df-convert {\n",
              "      background-color: #E8F0FE;\n",
              "      border: none;\n",
              "      border-radius: 50%;\n",
              "      cursor: pointer;\n",
              "      display: none;\n",
              "      fill: #1967D2;\n",
              "      height: 32px;\n",
              "      padding: 0 0 0 0;\n",
              "      width: 32px;\n",
              "    }\n",
              "\n",
              "    .colab-df-convert:hover {\n",
              "      background-color: #E2EBFA;\n",
              "      box-shadow: 0px 1px 2px rgba(60, 64, 67, 0.3), 0px 1px 3px 1px rgba(60, 64, 67, 0.15);\n",
              "      fill: #174EA6;\n",
              "    }\n",
              "\n",
              "    [theme=dark] .colab-df-convert {\n",
              "      background-color: #3B4455;\n",
              "      fill: #D2E3FC;\n",
              "    }\n",
              "\n",
              "    [theme=dark] .colab-df-convert:hover {\n",
              "      background-color: #434B5C;\n",
              "      box-shadow: 0px 1px 3px 1px rgba(0, 0, 0, 0.15);\n",
              "      filter: drop-shadow(0px 1px 2px rgba(0, 0, 0, 0.3));\n",
              "      fill: #FFFFFF;\n",
              "    }\n",
              "  </style>\n",
              "\n",
              "      <script>\n",
              "        const buttonEl =\n",
              "          document.querySelector('#df-d3c4a8ab-6cfb-4b6d-8a2a-ac427a572f99 button.colab-df-convert');\n",
              "        buttonEl.style.display =\n",
              "          google.colab.kernel.accessAllowed ? 'block' : 'none';\n",
              "\n",
              "        async function convertToInteractive(key) {\n",
              "          const element = document.querySelector('#df-d3c4a8ab-6cfb-4b6d-8a2a-ac427a572f99');\n",
              "          const dataTable =\n",
              "            await google.colab.kernel.invokeFunction('convertToInteractive',\n",
              "                                                     [key], {});\n",
              "          if (!dataTable) return;\n",
              "\n",
              "          const docLinkHtml = 'Like what you see? Visit the ' +\n",
              "            '<a target=\"_blank\" href=https://colab.research.google.com/notebooks/data_table.ipynb>data table notebook</a>'\n",
              "            + ' to learn more about interactive tables.';\n",
              "          element.innerHTML = '';\n",
              "          dataTable['output_type'] = 'display_data';\n",
              "          await google.colab.output.renderOutput(dataTable, element);\n",
              "          const docLink = document.createElement('div');\n",
              "          docLink.innerHTML = docLinkHtml;\n",
              "          element.appendChild(docLink);\n",
              "        }\n",
              "      </script>\n",
              "    </div>\n",
              "  </div>\n",
              "  "
            ]
          },
          "metadata": {},
          "execution_count": 90
        }
      ]
    },
    {
      "cell_type": "markdown",
      "metadata": {
        "id": "UmwJi0U5O9az"
      },
      "source": [
        "### Exercise 03.1.2 - Resampling Data\n",
        "\n",
        "As discussed in the videos, very often your IoT data will be at a higher resolution than what you need. Sometimes, the data was not logged at the exact moment as desired and therefore has various timestamps. In a spreadsheet, dealing with these issues can be tricky. With `Pandas`, its much more straightforward.\n",
        "\n",
        "In this exercise, use the DataFrames of meter and weather data you created to: \n",
        "1. create a `all_data` dataframe that holds both the meter data and the weather data at hourly resolution (the resulting dataframe should have a `8760×3` shape)\n",
        "2. Calculate the weekly **total** energy consumptions and weekly **average** temperature and humidity, save them in a DataFrame called `all_data_weekly` (the resulting dataframe should have a `53×3` shape)\n",
        "\n",
        "Hint: \n",
        "- use `.resample` to unify the timestamp of the two dataframe before `concat` them\n",
        "- be careful about which axis to `concat`\n",
        "- the Pandas `resample` function can be used for different basic calculation (e.g. `mean`, `sum`) at different time resolution (e.g. `'H'`, `'M'`)"
      ]
    },
    {
      "cell_type": "code",
      "metadata": {
        "id": "h_aEE57Gt6hp"
      },
      "source": [
        "# properly resample and concatenate the data\n",
        "# YOUR CODE HERE\n",
        "resampled_weather_data = weather_data.resample('H').mean()\n",
        "resampled_weather_data\n",
        "\n",
        "all_data = pd.concat([resampled_weather_data, meter_data], axis = 1)\n",
        "all_data_weekly_sum = all_data.resample('W').sum()\n",
        "all_data_weekly_avg = all_data.resample('W').mean()\n",
        "\n",
        "weekly_total_consumptions = all_data_weekly_sum['UnivLab_Ashlynn']\n",
        "weekly_average_weather = all_data_weekly_avg[['TemperatureC','Humidity']]\n",
        "all_data_weekly = pd.concat([weekly_total_consumptions, weekly_average_weather], axis =1 )"
      ],
      "execution_count": 126,
      "outputs": []
    },
    {
      "cell_type": "code",
      "metadata": {
        "id": "jOEJ7TVGK8I2"
      },
      "source": [
        "# Do the weekly calculation\n",
        "# YOUR CODE HERE\n",
        "all_data_weekly\n",
        "all_data_weekly = all_data_weekly.rename( columns = {'UnivLab_Ashlynn': 'Energy_Consumption'})\n"
      ],
      "execution_count": 132,
      "outputs": []
    },
    {
      "cell_type": "markdown",
      "metadata": {
        "id": "FSHeXl3unqyg"
      },
      "source": [
        "### Exercise 03.1.3 - Plotting\n",
        "\n",
        "One of the most useful things to do in the early phase of the data analysis process is to visualize the data to find interesting behavior, outliers, etc.\n",
        "\n",
        "In this exercise, use the Pandas `truncate` and `plot` function to plot the bar chart of weekly temperature and energy consumption of the building during July to September 2015.\n",
        "\n",
        "Here are some tips that you can use in your code:\n",
        "- The `truncate` function returns the dataframe between the `before` and `after` date\n",
        "- The pandas `plot.bar` function returns a `matplotlib.axes.Axes` object, which can be referred to as place to plot\n",
        "- The temperature and energy data are in different range. Therefore, it is better to have two y axis (`ax`), so that the both trends are clearly shown\n",
        "- A proper `legend` makes a plot with more than one lines more legible\n",
        "- Axis ticks of larger `fontsize` are also preferred\n",
        "- The appearance of the bars can be adjusted by `width` and `position`"
      ]
    },
    {
      "cell_type": "code",
      "metadata": {
        "id": "4JktsQFuO8mr",
        "colab": {
          "base_uri": "https://localhost:8080/",
          "height": 369
        },
        "outputId": "0ac5a8c6-a250-4a30-c197-639c68b9ccc7"
      },
      "source": [
        "# Process and visualize the data as required\n",
        "# YOUR CODE HERE\n",
        "all_data_weekly_Temp_Com = all_data_weekly[['TemperatureC','Energy_Consumption']]\n",
        "all_data_weekly_July = all_data_weekly_Temp_Com.truncate(before = '2015-07-01', after = '2015-09-30')\n",
        "\n",
        "all_data_weekly_July.plot(legend = True, subplots = True)\n",
        "\n",
        "\n",
        "\n"
      ],
      "execution_count": 149,
      "outputs": [
        {
          "output_type": "execute_result",
          "data": {
            "text/plain": [
              "array([<matplotlib.axes._subplots.AxesSubplot object at 0x7f89651ee890>,\n",
              "       <matplotlib.axes._subplots.AxesSubplot object at 0x7f89651bdad0>],\n",
              "      dtype=object)"
            ]
          },
          "metadata": {},
          "execution_count": 149
        },
        {
          "output_type": "display_data",
          "data": {
            "text/plain": [
              "<Figure size 432x288 with 2 Axes>"
            ],
            "image/png": "[encoded data removed]"
          },
          "metadata": {
            "needs_background": "light"
          }
        }
      ]
    },
    {
      "cell_type": "markdown",
      "metadata": {
        "id": "LduJIHoxTUaZ"
      },
      "source": [
        "### Please write down the week with the abnormal average temperature (in the form of '2015-XX-XX') as the answer for the quiz question."
      ]
    },
    {
      "cell_type": "code",
      "metadata": {
        "id": "JfVYvWxrTfrd"
      },
      "source": [
        "2015-08-16"
      ],
      "execution_count": null,
      "outputs": []
    }
  ]
}