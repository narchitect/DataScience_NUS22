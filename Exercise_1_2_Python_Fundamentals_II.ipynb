{
  "nbformat": 4,
  "nbformat_minor": 0,
  "metadata": {
    "colab": {
      "name": "Copy of Exercise 1.2 - Python Fundamentals II",
      "provenance": [],
      "collapsed_sections": [],
      "include_colab_link": true
    },
    "kernelspec": {
      "name": "python3",
      "display_name": "Python 3"
    }
  },
  "cells": [
    {
      "cell_type": "markdown",
      "metadata": {
        "id": "view-in-github",
        "colab_type": "text"
      },
      "source": [
        "<a href=\"https://colab.research.google.com/github/narchitect/NUS_Data-Science/blob/main/Exercise_1_2_Python_Fundamentals_II.ipynb\" target=\"_parent\"><img src=\"https://colab.research.google.com/assets/colab-badge.svg\" alt=\"Open In Colab\"/></a>"
      ]
    },
    {
      "cell_type": "markdown",
      "metadata": {
        "id": "6ja6S3Po4C9I"
      },
      "source": [
        "# Data Science for Construction, Architecture and Engineering\n",
        "\n",
        "### Week 1 -  Introduction and Python Fundamentals\n",
        "\n",
        "### Exercise Set 1.2 - Python Fundamentals - Control Statements, Functions, and Libraries\n",
        "\n",
        "This pair of exercises is the second of two sets for Week 1. These exercises are designed to give you some hands on experience in trying out the concepts from the second set of videos for this week.\n",
        "\n",
        "There is an introduction video available to explain the process of using this exercise video.\n",
        "\n",
        "These exercises were adapted from the Introduction to Python resources from [Garth Wells](https://notebooks.azure.com/garth-wells/projects/CUED-IA-Computing-Michaelmas)."
      ]
    },
    {
      "cell_type": "markdown",
      "metadata": {
        "id": "4rVMs5nJMWRF"
      },
      "source": [
        "# Exercise Set 01.2\n",
        "\n",
        "There are three exercises in this set, each one focused on a generic exercise in the use of Python control statements and functions.\n",
        "\n",
        "### Please note that you will need to use the resultant output from Exercise 01.2.2 for the Quiz 1.2."
      ]
    },
    {
      "cell_type": "markdown",
      "metadata": {
        "id": "MeE39azs4oct"
      },
      "source": [
        "## Exercise 01.2.1 - Creating a short program using `if` statements\n",
        "\n",
        "Consider the following assessment criteria which map a score out of 100 to an \n",
        "assessment grade:\n",
        "\n",
        "| Grade            | Raw score  (/100)      |\n",
        "| ---------------- | ---------------------- |\n",
        "| Excellent        | $\\ge 82$               |\n",
        "| Very good        | $\\ge 76.5$ and $< 82$  |\n",
        "| Good             | $\\ge 66$ and $< 76.5$  |\n",
        "| Need improvement | $\\ge 45$ and $< 66$    |\n",
        "| Did you try?     | $< 45$                 |\n",
        "\n",
        "Write a program that using `if`, `elif`, and `else` that given an a score, prints the appropriate grade. Print an error message if the input score is greater than 100 or less than zero.\n"
      ]
    },
    {
      "cell_type": "code",
      "metadata": {
        "id": "C6bGD7LT43dc",
        "colab": {
          "base_uri": "https://localhost:8080/"
        },
        "outputId": "f9a20811-6571-4ed0-fb20-ba8bb97d610b"
      },
      "source": [
        "# Score from user\n",
        "score = 0\n",
        "\n",
        "# YOUR CODE HERE\n",
        "\n",
        "if score >= 82:\n",
        "  print(\"Exellent\")\n",
        "elif 76.5 <= score < 82:\n",
        "  print(\"Very good\")\n",
        "elif 66 <= score < 76.5:\n",
        "  print(\"Good\")\n",
        "elif 45 <= score < 66:\n",
        "  print(\"Need improvement\")\n",
        "elif 0 < score < 45:\n",
        "  print(\"Did you try?\")\n",
        "else:\n",
        "  print(\"Error\")"
      ],
      "execution_count": 4,
      "outputs": [
        {
          "output_type": "stream",
          "name": "stdout",
          "text": [
            "Error\n"
          ]
        }
      ]
    },
    {
      "cell_type": "markdown",
      "metadata": {
        "id": "8Q-zAbOIUE-1"
      },
      "source": [
        "## Exercise 01.2.2 - Complex Order of Operations\n",
        "\n",
        "For the polynomial \n",
        "\\begin{align}\n",
        "f(x, y) &= (x + y)^{6} \n",
        "\\\\\n",
        "&=  x^6 + 6x^{5}y + 15x^{4}y^{2} + 20x^{3}y^{3} + 15x^{2}y^{4} + 6xy^{5} + y^{6}\n",
        "\\end{align}\n",
        "compute $f$ using: (i) the compact form $(x + y)^{6}$; and (ii) the expanded form for:\n",
        "\n",
        "$x = 10$ and $y = 10.1$\n",
        "\n",
        "and compare the number of significant digits for which the answers are the same.\n",
        "\n",
        "Store the answer for the compact version using the variable `f0`, and using the variable `f1` for the expanded version.\n",
        "\n",
        "For case (b), compare the computed and analytical solutions and consider the relative error.\n",
        "Which approach would you recommend for computing this expression?"
      ]
    },
    {
      "cell_type": "code",
      "metadata": {
        "id": "i3D1ElSYXKMf",
        "colab": {
          "base_uri": "https://localhost:8080/"
        },
        "outputId": "40a4e6db-3c69-4075-c7dd-c17d2fe9e84e"
      },
      "source": [
        "x = 10.0\n",
        "y = 10.1\n",
        "\n",
        "f0 = (x+y)**6\n",
        "f1 = x**6 + 6*(x**5)*y + 15*(x**4)*(y**2) + 20*(x**3)*(y**3) + 15*(x**2)*(y**4) + 6*x*(y**5) + y**6\n",
        "\n",
        "print(f0)\n",
        "print(f1)\n",
        "# YOUR CODE HERE"
      ],
      "execution_count": 5,
      "outputs": [
        {
          "output_type": "stream",
          "name": "stdout",
          "text": [
            "65944160.60120103\n",
            "65944160.601201\n"
          ]
        }
      ]
    },
    {
      "cell_type": "markdown",
      "metadata": {
        "id": "dM8DLp5J6GuM"
      },
      "source": [
        "### Please write down the number that you calculated for the variables `f0` and f1` and input in Quiz 1.2"
      ]
    },
    {
      "cell_type": "markdown",
      "metadata": {
        "nbgrader": {
          "grade": false,
          "grade_id": "cell-668d765c259431ca",
          "locked": true,
          "schema_version": 3,
          "solution": false
        },
        "id": "aDvQQuqJLNe4"
      },
      "source": [
        "## Exercise 01.2.3 - Writing a Simple Function\n",
        "\n",
        "Given the coordinates of the vertices of a triangle, $(x_0, y_0)$, $(x_1, y_1)$ and $(x_2, y_2)$, the area $A$ of the triangle is given by:\n",
        "$$\n",
        "A = \\left| \\frac{x_0(y_1  - y_2) + x_1(y_2 - y_0) + x_2(y_0 - y_1)}{2} \\right|\n",
        "$$\n",
        "Write a function named `area` that computes the area of a triangle given the coordinates of the vertices.\n",
        "The order of the function arguments must be (`x0, y0, x1, y1, x2, y2)`.\n",
        "\n",
        "Hint: `abs()` calculates the absolute value\n",
        "\n",
        "Test the output of your function against with the following function inputs:\n",
        "\n",
        "```\n",
        "x0, y0 = 0.0, 0.0\n",
        "x1, y1 = 0.0, 2.0\n",
        "x2, y2 = 3.0, 0.0\n",
        "```"
      ]
    },
    {
      "cell_type": "code",
      "metadata": {
        "id": "Z6iycVlF6RmN"
      },
      "source": [
        "### WRITE FUNCTION HERE\n",
        "\n",
        "def cal_area(x0, y0, x1, y1, x2, y2):\n",
        "\n",
        "  a = (x0*(y1-y2) + x1*(y2-y0) + x2*(y0-y1))/2\n",
        "\n",
        "  return abs(a)\n",
        "\n"
      ],
      "execution_count": 8,
      "outputs": []
    },
    {
      "cell_type": "code",
      "metadata": {
        "id": "ZG3GGMYDNFUV",
        "colab": {
          "base_uri": "https://localhost:8080/"
        },
        "outputId": "1663b1fa-0af9-45e8-dd06-697f50872e40"
      },
      "source": [
        "x0, y0 = 0.0, 0.0\n",
        "x1, y1 = 0.0, 2.0\n",
        "x2, y2 = 3.0, 0.0\n",
        "\n",
        "\n",
        "### CALL FUNCTION HERE\n",
        "cal_area(x0, y0, x1, y1, x2, y2)"
      ],
      "execution_count": 9,
      "outputs": [
        {
          "output_type": "execute_result",
          "data": {
            "text/plain": [
              "3.0"
            ]
          },
          "metadata": {},
          "execution_count": 9
        }
      ]
    },
    {
      "cell_type": "code",
      "metadata": {
        "id": "QbQpUDs4NIpw"
      },
      "source": [
        ""
      ],
      "execution_count": null,
      "outputs": []
    }
  ]
}